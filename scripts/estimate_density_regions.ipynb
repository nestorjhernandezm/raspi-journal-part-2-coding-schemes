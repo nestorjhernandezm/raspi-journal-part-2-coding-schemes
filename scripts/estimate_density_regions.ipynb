{
 "cells": [
  {
   "cell_type": "code",
   "execution_count": 10,
   "metadata": {
    "collapsed": false
   },
   "outputs": [],
   "source": [
    "import matplotlib.pyplot as plt\n",
    "import numpy as np\n",
    "\n",
    "def r(g,k):\n",
    "    return np.floor(g*((2**k-1)/2**k))\n",
    "\n",
    "def regions(g):\n",
    "    k = 1\n",
    "    while (1):\n",
    "        if r(g,k-1) == r(g,k):\n",
    "            return k\n",
    "        k += 1\n",
    "\n",
    "G = np.arange(1,129,1)\n",
    "\n",
    "plt.plot(G,[regions(g) for g in G],'ro')\n",
    "#plt.plot(G,[np.ceil(np.log2(g))+1 for g in G])\n",
    "plt.plot(G,[np.ceil(np.log2(g)+1) for g in G])\n",
    "\n",
    "plt.title(\"Proof that ceil[log2(g)]+1 is correctly estimating the number of density regions given a generation size g\")\n",
    "plt.xlabel('g')\n",
    "plt.ylabel('regions')\n",
    "plt.grid(True)\n",
    "plt.savefig(\"test.png\")\n",
    "plt.show()"
   ]
  },
  {
   "cell_type": "code",
   "execution_count": null,
   "metadata": {
    "collapsed": true
   },
   "outputs": [],
   "source": []
  }
 ],
 "metadata": {
  "kernelspec": {
   "display_name": "Python 3",
   "language": "python",
   "name": "python3"
  },
  "language_info": {
   "codemirror_mode": {
    "name": "ipython",
    "version": 3
   },
   "file_extension": ".py",
   "mimetype": "text/x-python",
   "name": "python",
   "nbconvert_exporter": "python",
   "pygments_lexer": "ipython3",
   "version": "3.5.2"
  }
 },
 "nbformat": 4,
 "nbformat_minor": 0
}
