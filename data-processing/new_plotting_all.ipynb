{
 "cells": [
  {
   "cell_type": "code",
   "execution_count": 1,
   "metadata": {
    "collapsed": true
   },
   "outputs": [],
   "source": [
    "import pandas as pd\n",
    "import numpy as np\n",
    "import matplotlib.pyplot as plt\n",
    "from os.path import join\n",
    "from matplotlib.backends.backend_pdf import PdfPages"
   ]
  },
  {
   "cell_type": "code",
   "execution_count": 2,
   "metadata": {
    "collapsed": false,
    "scrolled": true
   },
   "outputs": [],
   "source": [
    "#%matplotlib tk"
   ]
  },
  {
   "cell_type": "markdown",
   "metadata": {},
   "source": [
    "# Prettier plots"
   ]
  },
  {
   "cell_type": "code",
   "execution_count": 3,
   "metadata": {
    "collapsed": true
   },
   "outputs": [],
   "source": [
    "# plt.style.use('seaborn-paper')\n",
    "# plt.style.available"
   ]
  },
  {
   "cell_type": "code",
   "execution_count": 4,
   "metadata": {
    "collapsed": true
   },
   "outputs": [],
   "source": [
    "font_size = 14\n",
    "#A small dictionary to set the font style\n",
    "font = {'family': 'sans-serif',\n",
    "        'weight': 'medium',\n",
    "        'style': 'normal',\n",
    "        'size': font_size}\n",
    "plt.rc('font', **font)\n",
    "plt.rc('text', usetex=True) #For the LaTeX rendering\n",
    "\n",
    "plt.rc('xtick', labelsize=font_size)\n",
    "plt.rc('ytick', labelsize=font_size)"
   ]
  },
  {
   "cell_type": "code",
   "execution_count": 5,
   "metadata": {
    "collapsed": false
   },
   "outputs": [],
   "source": [
    "# from matplotlib import rcParams\n",
    "# rcParams.update({'figure.autolayout': True})\n",
    "# rcParams['lines.linewidth'] = 2\n",
    "# rcParams['lines.markeredgewidth'] = 1\n",
    "# rcParams['lines.markersize'] = 7\n",
    "# rcParams['text.usetex'] = True\n",
    "\n",
    "# plt.autoscale(enable=True,axis='both',tight=True)\n",
    "\n",
    "# font = {'family': 'sans-serif','sans-serif': 'Arial', 'weight': 'normal', 'size': 12}\n",
    "# plt.rc('font', **font)"
   ]
  },
  {
   "cell_type": "markdown",
   "metadata": {},
   "source": [
    "# Import the dataframes"
   ]
  },
  {
   "cell_type": "markdown",
   "metadata": {},
   "source": [
    "Choose path"
   ]
  },
  {
   "cell_type": "code",
   "execution_count": 6,
   "metadata": {
    "collapsed": true
   },
   "outputs": [],
   "source": [
    "path = '.'"
   ]
  },
  {
   "cell_type": "markdown",
   "metadata": {},
   "source": [
    "Read the pickle files"
   ]
  },
  {
   "cell_type": "code",
   "execution_count": 7,
   "metadata": {
    "collapsed": false
   },
   "outputs": [],
   "source": [
    "multiply_data = pd.read_pickle(join(path,'multiply_speed.p'))\n",
    "inversion_data = pd.read_pickle(join(path,'inversion_speed.p'))\n",
    "inversion_data_special = pd.read_pickle(join(path,'inversion_special.p'))\n",
    "power_multiply_data = pd.read_pickle(join(path,'power_multiply.p'))\n",
    "power_inversion_data = pd.read_pickle(join(path,'power_inversion.p'))"
   ]
  },
  {
   "cell_type": "code",
   "execution_count": 8,
   "metadata": {
    "collapsed": true
   },
   "outputs": [],
   "source": [
    "data_dic = {'multiply_speed':multiply_data,\n",
    "            'inversion_speed':inversion_data,\n",
    "            'inversion_special':inversion_data_special,\n",
    "            'power_multiply':power_multiply_data,\n",
    "            'power_inversion':power_inversion_data}"
   ]
  },
  {
   "cell_type": "markdown",
   "metadata": {},
   "source": [
    "## Dataframe extra manipulation"
   ]
  },
  {
   "cell_type": "markdown",
   "metadata": {},
   "source": [
    "Convert NaN's to zero"
   ]
  },
  {
   "cell_type": "code",
   "execution_count": 9,
   "metadata": {
    "collapsed": false
   },
   "outputs": [],
   "source": [
    "for key,data in data_dic.items():\n",
    "    data.fillna(0, inplace=True)"
   ]
  },
  {
   "cell_type": "markdown",
   "metadata": {},
   "source": [
    "### Bytes"
   ]
  },
  {
   "cell_type": "markdown",
   "metadata": {},
   "source": [
    "Append a column with the total bytes. This is $Gen\\_Size \\cdot m$"
   ]
  },
  {
   "cell_type": "code",
   "execution_count": 10,
   "metadata": {
    "collapsed": true
   },
   "outputs": [],
   "source": [
    "for key,data in data_dic.items():\n",
    "    if 'multiply' in key:\n",
    "        data['Bytes'] = data['Gen_Size'].mul(data['m'], fill_value=0)"
   ]
  },
  {
   "cell_type": "markdown",
   "metadata": {},
   "source": [
    "### Total time"
   ]
  },
  {
   "cell_type": "markdown",
   "metadata": {},
   "source": [
    "Add a column with the total spent time"
   ]
  },
  {
   "cell_type": "code",
   "execution_count": 11,
   "metadata": {
    "collapsed": false
   },
   "outputs": [],
   "source": [
    "# Create column with total values\n",
    "multiply_data[\"Total_time\"]= multiply_data.Act_1.add(multiply_data.Act_2, fill_value=0)\n",
    "inversion_data[\"Total_time\"]= inversion_data.Act_1.add(inversion_data.Act_2, fill_value=0)\n",
    "\n",
    "power_multiply_data[\"Total_time\"]= power_multiply_data.Act_1.add(power_multiply_data.Act_2, fill_value=0)\n",
    "power_inversion_data[\"Total_time\"]= power_inversion_data.Act_1.add(power_inversion_data.Act_2, fill_value=0)\n"
   ]
  },
  {
   "cell_type": "markdown",
   "metadata": {},
   "source": [
    "### Decoding time and inversion time"
   ]
  },
  {
   "cell_type": "code",
   "execution_count": 12,
   "metadata": {
    "collapsed": false
   },
   "outputs": [],
   "source": [
    "multiply_data['Time_decod'] = np.nan\n",
    "multiply_data['Time_inv'] = np.nan\n",
    "for gen_size in multiply_data['Gen_Size'].unique():\n",
    "    for block_size in multiply_data['Block_Size'].unique():\n",
    "        for threads in multiply_data['Threads'].unique():\n",
    "            index_multiply = (multiply_data['Gen_Size'] == gen_size) & \\\n",
    "                (multiply_data['Block_Size'] == block_size) & (multiply_data['Threads']== threads)\n",
    "            index_inversion = (inversion_data['Gen_Size'] == gen_size) & \\\n",
    "                (inversion_data['Block_Size'] == block_size) & (inversion_data['Threads']== threads)\n",
    "            \n",
    "            multiply_data.loc[index_multiply,'Time_inv'] = inversion_data[index_inversion]['Total_time'].mean()\n",
    "            multiply_data.loc[index_multiply,'Inv_err'] = inversion_data[index_inversion]['Total_time'].sem()\n",
    "            multiply_data.loc[index_multiply,'Time_decod'] = multiply_data[index_multiply]['Total_time'] + \\\n",
    "                multiply_data.loc[index_multiply,'Time_inv']"
   ]
  },
  {
   "cell_type": "markdown",
   "metadata": {},
   "source": [
    "### Throughput"
   ]
  },
  {
   "cell_type": "markdown",
   "metadata": {},
   "source": [
    "MiB/s"
   ]
  },
  {
   "cell_type": "code",
   "execution_count": 13,
   "metadata": {
    "collapsed": false
   },
   "outputs": [],
   "source": [
    "# # Encoding throughput\n",
    "# multiply_data[\"Throughput\"] = (multiply_data['Bytes'] / (1024**2)) / multiply_data[\"Total_time\"]\n",
    "\n",
    "# # Decoding throughput\n",
    "# multiply_data[\"Throughput_decod\"] = (multiply_data['Bytes'] / (1024**2)) / multiply_data[\"Time_decod\"]"
   ]
  },
  {
   "cell_type": "markdown",
   "metadata": {},
   "source": [
    "MB/s"
   ]
  },
  {
   "cell_type": "code",
   "execution_count": 14,
   "metadata": {
    "collapsed": false
   },
   "outputs": [],
   "source": [
    "# Encoding throughput\n",
    "multiply_data[\"Throughput\"] = (multiply_data['Bytes'] / (1000**2)) / multiply_data[\"Total_time\"]\n",
    "\n",
    "# Decoding throughput\n",
    "multiply_data[\"Throughput_decod\"] = (multiply_data['Bytes'] / (1000**2)) / multiply_data[\"Time_decod\"]"
   ]
  },
  {
   "cell_type": "markdown",
   "metadata": {},
   "source": [
    "Add a strategy called Decoding, so we can plot it together"
   ]
  },
  {
   "cell_type": "code",
   "execution_count": 15,
   "metadata": {
    "collapsed": false
   },
   "outputs": [
    {
     "name": "stderr",
     "output_type": "stream",
     "text": [
      "/usr/lib/python3.5/site-packages/pandas/core/indexing.py:465: SettingWithCopyWarning: \n",
      "A value is trying to be set on a copy of a slice from a DataFrame.\n",
      "Try using .loc[row_indexer,col_indexer] = value instead\n",
      "\n",
      "See the caveats in the documentation: http://pandas.pydata.org/pandas-docs/stable/indexing.html#indexing-view-versus-copy\n",
      "  self.obj[item] = s\n"
     ]
    }
   ],
   "source": [
    "a = multiply_data[multiply_data['Strat']=='sch_rec']\n",
    "a.loc[:,'Throughput'] = a.Throughput_decod\n",
    "a.loc[:,'Strat']='Decoding'\n",
    "multiply_data = multiply_data.append(a,ignore_index=True)"
   ]
  },
  {
   "cell_type": "markdown",
   "metadata": {},
   "source": [
    "### Rename strategies"
   ]
  },
  {
   "cell_type": "code",
   "execution_count": 16,
   "metadata": {
    "collapsed": false
   },
   "outputs": [],
   "source": [
    "multiply_data.loc[multiply_data['Strat']=='base','Strat'] = 'Base'\n",
    "multiply_data.loc[multiply_data['Strat']=='basebl','Strat'] = 'BaseBl'\n",
    "multiply_data.loc[multiply_data['Strat']=='sch_rec','Strat'] = 'Encoding'"
   ]
  },
  {
   "cell_type": "markdown",
   "metadata": {},
   "source": [
    "# Plots"
   ]
  },
  {
   "cell_type": "markdown",
   "metadata": {},
   "source": [
    "## Encoding / Decoding speed"
   ]
  },
  {
   "cell_type": "markdown",
   "metadata": {},
   "source": [
    "### Choose the fastest block size"
   ]
  },
  {
   "cell_type": "code",
   "execution_count": 17,
   "metadata": {
    "collapsed": false,
    "scrolled": true
   },
   "outputs": [
    {
     "name": "stderr",
     "output_type": "stream",
     "text": [
      "/usr/lib/python3.5/site-packages/ipykernel/__main__.py:11: FutureWarning: sort(columns=....) is deprecated, use sort_values(by=.....)\n"
     ]
    },
    {
     "data": {
      "text/html": [
       "<div>\n",
       "<table border=\"1\" class=\"dataframe\">\n",
       "  <thead>\n",
       "    <tr style=\"text-align: right;\">\n",
       "      <th></th>\n",
       "      <th>Gen_Size</th>\n",
       "      <th>Block_Size</th>\n",
       "    </tr>\n",
       "  </thead>\n",
       "  <tbody>\n",
       "    <tr>\n",
       "      <th>0</th>\n",
       "      <td>16.0</td>\n",
       "      <td>16.0</td>\n",
       "    </tr>\n",
       "    <tr>\n",
       "      <th>2</th>\n",
       "      <td>32.0</td>\n",
       "      <td>32.0</td>\n",
       "    </tr>\n",
       "    <tr>\n",
       "      <th>5</th>\n",
       "      <td>64.0</td>\n",
       "      <td>64.0</td>\n",
       "    </tr>\n",
       "    <tr>\n",
       "      <th>9</th>\n",
       "      <td>128.0</td>\n",
       "      <td>128.0</td>\n",
       "    </tr>\n",
       "    <tr>\n",
       "      <th>13</th>\n",
       "      <td>256.0</td>\n",
       "      <td>128.0</td>\n",
       "    </tr>\n",
       "    <tr>\n",
       "      <th>19</th>\n",
       "      <td>512.0</td>\n",
       "      <td>256.0</td>\n",
       "    </tr>\n",
       "    <tr>\n",
       "      <th>24</th>\n",
       "      <td>1024.0</td>\n",
       "      <td>128.0</td>\n",
       "    </tr>\n",
       "  </tbody>\n",
       "</table>\n",
       "</div>"
      ],
      "text/plain": [
       "    Gen_Size  Block_Size\n",
       "0       16.0        16.0\n",
       "2       32.0        32.0\n",
       "5       64.0        64.0\n",
       "9      128.0       128.0\n",
       "13     256.0       128.0\n",
       "19     512.0       256.0\n",
       "24    1024.0       128.0"
      ]
     },
     "execution_count": 17,
     "metadata": {},
     "output_type": "execute_result"
    }
   ],
   "source": [
    "# Steps:\n",
    "# * Take just the data that matters: 4 threads, encoding, throughput\n",
    "# * Do the regular groupby and find the means\n",
    "# * Reset the index\n",
    "# * Sort by Throughput and gen_size. Group by Gen_size and take the head(1)\n",
    "\n",
    "df = multiply_data[(multiply_data[\"Threads\"]==4) & (multiply_data[\"Strat\"]==\"Encoding\")][[\"Throughput\",\"Gen_Size\",\"Block_Size\"]]\n",
    "\n",
    "df = df.groupby([\"Gen_Size\",\"Block_Size\"]).mean().reset_index()\n",
    "\n",
    "best_blocks = df.sort([\"Throughput\",\"Gen_Size\"], ascending=[0,1]).groupby('Gen_Size').head(1)[[\"Gen_Size\",\"Block_Size\"]]\n",
    "\n",
    "best_blocks"
   ]
  },
  {
   "cell_type": "markdown",
   "metadata": {},
   "source": [
    "### Filter the data to use just the best blocks"
   ]
  },
  {
   "cell_type": "code",
   "execution_count": 18,
   "metadata": {
    "collapsed": false,
    "scrolled": true
   },
   "outputs": [],
   "source": [
    "df = multiply_data[[\"Threads\", \"Strat\", \"Throughput\", \"Throughput_decod\",\"Gen_Size\",\"Block_Size\",\"m\"]]\n",
    "# df = df.groupby([\"Threads\", \"Strat\",\"Gen_Size\",\"Block_Size\"]).mean()\n",
    "# df.drop(level=)\n",
    "\n",
    "i = 0\n",
    "for index, row in best_blocks.iterrows():\n",
    "    if i == 0:\n",
    "        ndf = df[(df[\"Gen_Size\"]==row[\"Gen_Size\"]) & (df[\"Block_Size\"]==row[\"Block_Size\"])]\n",
    "        i+=1\n",
    "    else:\n",
    "        ndf = ndf.append(df[(df[\"Gen_Size\"]==row[\"Gen_Size\"]) & (df[\"Block_Size\"]==row[\"Block_Size\"])],ignore_index=True)\n"
   ]
  },
  {
   "cell_type": "markdown",
   "metadata": {},
   "source": [
    "### Plot throughput"
   ]
  },
  {
   "cell_type": "code",
   "execution_count": 20,
   "metadata": {
    "collapsed": false
   },
   "outputs": [],
   "source": [
    "plt.ioff()\n",
    "# i=0\n",
    "with PdfPages('throughput_per_strat.pdf') as pdf:\n",
    "    for name,groups in ndf.groupby([\"Gen_Size\",'m']):\n",
    "        # The data are the mean values\n",
    "        data = groups.groupby([\"Strat\",\"Threads\"]).mean()\n",
    "        data.rename(index={\"Base\":\"Base enc.\",\"BaseBl\":\"Base blocked enc.\",\"Decoding\":\"Multithread dec.\",\"Encoding\":\"Multithread enc.\",},inplace=True)\n",
    "        \n",
    "#         if i == 3:\n",
    "#             break\n",
    "#         i+=1\n",
    "        \n",
    "        figure=data[\"Throughput\"][[\"Base enc.\",\"Base blocked enc.\",\"Multithread enc.\",\"Multithread dec.\"]].unstack(\"Threads\").plot(kind=\"Bar\",rot=0)\n",
    "\n",
    "        # Plot information\n",
    "        save_titulo= \"GenSize_\" + name[0].astype('str') + '_SymbolSize_' + name[1].astype('str')\n",
    "#         titulo= \"Gen Size = \" + name[0].astype('str') + ' ; m = ' + name[1].astype('str')\n",
    "#         plt.title(titulo)\n",
    "#         plt.xlabel(\"Strategy\")\n",
    "        plt.xlabel(r\"$Strategy$\")\n",
    "        plt.ylabel(r\"$Goodput\\ [MB/s]$\")\n",
    "        plt.grid(True)\n",
    "        fig = figure.get_figure()\n",
    "        fig.savefig(save_titulo+\".pdf\",format=\"pdf\",dpi=300)\n",
    "        pdf.savefig()\n",
    "             "
   ]
  },
  {
   "cell_type": "markdown",
   "metadata": {},
   "source": [
    "## Finding the ratio between Multiplication time and inversion time"
   ]
  },
  {
   "cell_type": "code",
   "execution_count": null,
   "metadata": {
    "collapsed": false
   },
   "outputs": [],
   "source": [
    "df = multiply_data[[\"Threads\", \"Strat\", \"Throughput\", \"Throughput_decod\",\"Gen_Size\",\"Block_Size\",\"m\",\"Total_time\",\"Time_inv\",\"Act_2\"]]\n",
    "# df = df.groupby([\"Threads\", \"Strat\",\"Gen_Size\",\"Block_Size\"]).mean()\n",
    "# df.drop(level=)\n",
    "\n",
    "i = 0\n",
    "for index, row in best_blocks.iterrows():\n",
    "    if i == 0:\n",
    "        ndf = df[(df[\"Gen_Size\"]==row[\"Gen_Size\"]) & (df[\"Block_Size\"]==row[\"Block_Size\"])]\n",
    "        i+=1\n",
    "    else:\n",
    "        ndf = ndf.append(df[(df[\"Gen_Size\"]==row[\"Gen_Size\"]) & (df[\"Block_Size\"]==row[\"Block_Size\"])],ignore_index=True)\n",
    "\n",
    "a = df[(df[\"Strat\"]=='Decoding') & (df[\"Threads\"]==1)].groupby('Gen_Size').mean()\n",
    "a['Ratio'] = a[\"Act_2\"] / a[\"Time_inv\"]"
   ]
  },
  {
   "cell_type": "code",
   "execution_count": null,
   "metadata": {
    "collapsed": false
   },
   "outputs": [],
   "source": [
    "a"
   ]
  }
 ],
 "metadata": {
  "kernelspec": {
   "display_name": "Python 3",
   "language": "python",
   "name": "python3"
  },
  "language_info": {
   "codemirror_mode": {
    "name": "ipython",
    "version": 3
   },
   "file_extension": ".py",
   "mimetype": "text/x-python",
   "name": "python",
   "nbconvert_exporter": "python",
   "pygments_lexer": "ipython3",
   "version": "3.5.1"
  }
 },
 "nbformat": 4,
 "nbformat_minor": 0
}
