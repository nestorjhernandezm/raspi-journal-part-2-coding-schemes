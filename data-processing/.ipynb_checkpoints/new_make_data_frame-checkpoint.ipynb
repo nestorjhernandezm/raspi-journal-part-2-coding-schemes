{
 "cells": [
  {
   "cell_type": "code",
   "execution_count": 1,
   "metadata": {
    "collapsed": true
   },
   "outputs": [],
   "source": [
    "import pandas as pd\n",
    "import numpy as np\n",
    "import fileinput\n",
    "import shutil # For file copy\n",
    "from os import listdir\n",
    "from os.path import isfile, join"
   ]
  },
  {
   "cell_type": "markdown",
   "metadata": {},
   "source": [
    "# Formating the files"
   ]
  },
  {
   "cell_type": "markdown",
   "metadata": {},
   "source": [
    "We specify the path where the data files are stored:"
   ]
  },
  {
   "cell_type": "code",
   "execution_count": 2,
   "metadata": {
    "collapsed": true
   },
   "outputs": [],
   "source": [
    "path = '2016-01-02_odroid_tests/'\n",
    "\n",
    "\n",
    "file_stages = 'unrecorded_single_threaded_inversion.csv'"
   ]
  },
  {
   "cell_type": "markdown",
   "metadata": {},
   "source": [
    "### Make  a copy of the files"
   ]
  },
  {
   "cell_type": "markdown",
   "metadata": {},
   "source": [
    "Make a copy of the files with a csv extension instead of txt"
   ]
  },
  {
   "cell_type": "code",
   "execution_count": 3,
   "metadata": {
    "collapsed": false
   },
   "outputs": [],
   "source": [
    "# List of files that have the words 'inversion' or 'multiplication' and it is not a csv file\n",
    "files_txt = [join(path,f) for f in listdir(path) if \n",
    "         (('inversion' in f)  or ('multiplication' in f))\n",
    "         and (isfile(join(path, f))) and ('.txt' in f)]\n",
    "\n",
    "# Files with csv extension\n",
    "files = [f.replace('.txt','.csv') for f in files_txt]\n",
    "\n",
    "# Make a copy of each file with a csv extension\n",
    "for i in range(len(files)):\n",
    "    shutil.copy(files_txt[i], files[i])"
   ]
  },
  {
   "cell_type": "markdown",
   "metadata": {},
   "source": [
    "### Lists of files depending on the type of test"
   ]
  },
  {
   "cell_type": "code",
   "execution_count": 4,
   "metadata": {
    "collapsed": false
   },
   "outputs": [],
   "source": [
    "power_multiply_files = [f for f in files if \n",
    "         ('power' in f)  and ('multiplication' in f)]\n",
    "\n",
    "power_inversion_files = [f for f in files if \n",
    "         ('power' in f)  and ('inversion' in f)]\n",
    "\n",
    "multiply_files = [f for f in files if \n",
    "         (('multiplication' in f)  and not ('power' in f))]\n",
    "\n",
    "inversion_files = [f for f in files if\n",
    "         ('inversion' in f)  and not ('power' in f)]"
   ]
  },
  {
   "cell_type": "markdown",
   "metadata": {},
   "source": [
    "### Reformat the files to CSV."
   ]
  },
  {
   "cell_type": "markdown",
   "metadata": {},
   "source": [
    "* We ignore the lines starting with # because those are the warmup measurements\n",
    "* We also ignore any line containing the word sorry"
   ]
  },
  {
   "cell_type": "code",
   "execution_count": 5,
   "metadata": {
    "collapsed": false
   },
   "outputs": [],
   "source": [
    "new_file = open(join(path,file_stages),'w')\n",
    "for line in fileinput.FileInput(files, inplace=True):\n",
    "    if line.rstrip():\n",
    "        if line.startswith('#') or 'sorry' in line:\n",
    "            continue\n",
    "        elif 'stage1' in line:\n",
    "            new_file.write(line.replace(' ', ','))\n",
    "        else:\n",
    "            print(line.replace(' ', ','), end='')\n",
    "            \n",
    "new_file.close()"
   ]
  },
  {
   "cell_type": "markdown",
   "metadata": {},
   "source": [
    "The inversion files have a special line for one threaded non recorded inversions. We will create a new file to contain those lines because they do not fit the format"
   ]
  },
  {
   "cell_type": "markdown",
   "metadata": {},
   "source": [
    "# Making the dataframes"
   ]
  },
  {
   "cell_type": "markdown",
   "metadata": {},
   "source": [
    "### Multiply - Speed files"
   ]
  },
  {
   "cell_type": "code",
   "execution_count": 6,
   "metadata": {
    "collapsed": false
   },
   "outputs": [],
   "source": [
    "# Create squeleton dataframe. Only columns names\n",
    "multiply_data = pd.DataFrame(columns=[\"1\",\"Threads\",\"2\",\"Gen_Size\",\"3\",\"m\",\"4\",\"Block_Size\",\"Strat\",\"Act_1\",\"5\",\"Act_2\"])\n",
    "\n",
    "# Concatenate all the dataframes of the multiply speed files\n",
    "for f in multiply_files:\n",
    "    df = pd.read_csv(f,header=None,\n",
    "                names=[\"1\",\"Threads\",\"2\",\"Gen_Size\",\"3\",\"m\",\"4\",\"Block_Size\",\"Strat\",\"Act_1\",\"5\",\"Act_2\"])\n",
    "    multiply_data = multiply_data.append(df, ignore_index=True)\n",
    "\n",
    "# Drop extra columns\n",
    "multiply_data.drop([\"1\",\"2\",\"3\",\"4\",\"5\"],axis=1,inplace=True)"
   ]
  },
  {
   "cell_type": "markdown",
   "metadata": {},
   "source": [
    "### Inversion - Speed files"
   ]
  },
  {
   "cell_type": "code",
   "execution_count": 7,
   "metadata": {
    "collapsed": false
   },
   "outputs": [],
   "source": [
    "# Create squeleton dataframe. Only columns names\n",
    "inversion_data = pd.DataFrame(columns=[\"1\",\"Threads\",\"2\",\"Gen_Size\",\"3\",\"Block_Size\",\"4\",\"Act_1\",\"5\",\"Act_2\"])\n",
    "\n",
    "# Concatenate all the dataframes of the multiply speed files\n",
    "for f in inversion_files:\n",
    "    df = pd.read_csv(f,header=None, index_col=False,\n",
    "                 names=[\"1\",\"Threads\",\"2\",\"Gen_Size\",\"3\",\"Block_Size\",\"4\",\"Act_1\",\"5\",\"Act_2\"])\n",
    "    inversion_data = inversion_data.append(df, ignore_index=True)\n",
    "\n",
    "# Drop extra columns\n",
    "inversion_data.drop([\"1\",\"2\",\"3\",\"4\",\"5\"],axis=1,inplace=True)"
   ]
  },
  {
   "cell_type": "markdown",
   "metadata": {},
   "source": [
    "#### Inversion, special case (Single threaded not recorded)"
   ]
  },
  {
   "cell_type": "code",
   "execution_count": 8,
   "metadata": {
    "collapsed": false
   },
   "outputs": [],
   "source": [
    "inversion_data_special = pd.read_csv(join(path,file_stages), header=None, index_col=False,\n",
    "                                     names=[\"1\",\"Threads\",\"2\",\"Gen_Size\",\"3\",\"Block_Size\",\"4\",\n",
    "                                            \"Stage_1\",\"5\",\"Stage_2\",\"6\",\"Stage_3\",\"7\",\"lu_inv_blocked\"])\n",
    "# Drop extra columns\n",
    "inversion_data_special.drop([\"1\",\"2\",\"3\",\"4\",\"5\",\"6\",\"7\"],axis=1,inplace=True)"
   ]
  },
  {
   "cell_type": "markdown",
   "metadata": {},
   "source": [
    "### Power files"
   ]
  },
  {
   "cell_type": "markdown",
   "metadata": {},
   "source": [
    "Multiply power"
   ]
  },
  {
   "cell_type": "code",
   "execution_count": 9,
   "metadata": {
    "collapsed": false
   },
   "outputs": [],
   "source": [
    "# Create squeleton dataframe. Only columns names\n",
    "power_multiply_data = pd.DataFrame(columns=[\"1\",\"Threads\",\"2\",\"Gen_Size\",\"3\",\"m\",\"4\",\"Block_Size\",\n",
    "                                            \"Strat\",\"Act_1\",\"5\",\"Act_2\",\"6\",\"Power_Wattsecs\",\"7\",\n",
    "                                            \"8\",\"Power_Avg(W)\",\"9\"])\n",
    "\n",
    "# Concatenate all the dataframes of the multiply speed files\n",
    "for f in power_multiply_files:\n",
    "    df = pd.read_csv(f,header=None,\n",
    "                names=[\"1\",\"Threads\",\"2\",\"Gen_Size\",\"3\",\"m\",\"4\",\"Block_Size\",\n",
    "                        \"Strat\",\"Act_1\",\"5\",\"Act_2\",\"6\",\"Power_Wattsecs\",\"7\",\n",
    "                        \"8\",\"Power_Avg(W)\",\"9\"])\n",
    "    power_multiply_data = power_multiply_data.append(df, ignore_index=True)\n",
    "\n",
    "power_multiply_data.drop([\"1\",\"2\",\"3\",\"4\",\"5\",\"6\",\"7\",\"8\",\"9\"],axis=1,inplace=True)"
   ]
  },
  {
   "cell_type": "markdown",
   "metadata": {},
   "source": [
    "Inversion power"
   ]
  },
  {
   "cell_type": "code",
   "execution_count": 10,
   "metadata": {
    "collapsed": true
   },
   "outputs": [],
   "source": [
    "# Create squeleton dataframe. Only columns names\n",
    "power_inversion_data = pd.DataFrame(columns=[\"1\",\"Threads\",\"2\",\"Gen_Size\",\"4\",\"Block_Size\",\n",
    "                                            \"5\",\"Act_1\",\"5\",\"Act_2\",\"6\",\"Power_Wattsecs\",\"7\",\n",
    "                                            \"8\",\"Power_Avg(W)\",\"9\"])\n",
    "\n",
    "# Concatenate all the dataframes of the multiply speed files\n",
    "for f in power_inversion_files:\n",
    "    df = pd.read_csv(f,header=None,\n",
    "                names=[\"1\",\"Threads\",\"2\",\"Gen_Size\",\"4\",\"Block_Size\",\n",
    "                        \"5\",\"Act_1\",\"5\",\"Act_2\",\"6\",\"Power_Wattsecs\",\"7\",\n",
    "                        \"8\",\"Power_Avg(W)\",\"9\"])\n",
    "    power_inversion_data = power_inversion_data.append(df, ignore_index=True)\n",
    "\n",
    "power_inversion_data.drop([\"1\",\"2\",\"3\",\"4\",\"5\",\"6\",\"7\",\"8\",\"9\"],axis=1,inplace=True)"
   ]
  },
  {
   "cell_type": "markdown",
   "metadata": {},
   "source": [
    "# Save dataframes as pickles"
   ]
  },
  {
   "cell_type": "markdown",
   "metadata": {},
   "source": [
    "All the dataframes and names to save them to"
   ]
  },
  {
   "cell_type": "code",
   "execution_count": 11,
   "metadata": {
    "collapsed": false
   },
   "outputs": [],
   "source": [
    "data_dic = {'multiply_speed.p':multiply_data,\n",
    "            'inversion_speed.p':inversion_data,\n",
    "            'inversion_special.p':inversion_data_special,\n",
    "            'power_multiply.p':power_multiply_data,\n",
    "            'power_inversion.p':power_inversion_data}"
   ]
  },
  {
   "cell_type": "markdown",
   "metadata": {},
   "source": [
    "Save dataframes"
   ]
  },
  {
   "cell_type": "code",
   "execution_count": 12,
   "metadata": {
    "collapsed": false
   },
   "outputs": [],
   "source": [
    "for name, df in data_dic.items():\n",
    "    df.to_pickle(join(path,name))"
   ]
  }
 ],
 "metadata": {
  "kernelspec": {
   "display_name": "Python 3",
   "language": "python",
   "name": "python3"
  },
  "language_info": {
   "codemirror_mode": {
    "name": "ipython",
    "version": 3
   },
   "file_extension": ".py",
   "mimetype": "text/x-python",
   "name": "python",
   "nbconvert_exporter": "python",
   "pygments_lexer": "ipython3",
   "version": "3.5.1"
  }
 },
 "nbformat": 4,
 "nbformat_minor": 0
}
